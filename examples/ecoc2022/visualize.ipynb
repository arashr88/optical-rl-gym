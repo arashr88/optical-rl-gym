{
 "cells": [
  {
   "cell_type": "code",
   "execution_count": null,
   "metadata": {},
   "outputs": [],
   "source": [
    "# Optical RL-Gym"
   ]
  },
  {
   "cell_type": "code",
   "execution_count": null,
   "metadata": {},
   "outputs": [],
   "source": [
    "# imports\n",
    "import time\n",
    "\n",
    "import numpy as np\n",
    "import pandas as pd\n",
    "import matplotlib.pyplot as plt\n",
    "\n",
    "from IPython.display import clear_output\n",
    "\n",
    "%matplotlib inline\n",
    "%config InlineBackend.figure_format = 'svg'\n",
    "\n",
    "# config\n",
    "heuristic_folder = '../heuristics/bkp/rmsa-heu/'\n",
    "deeprmsa_ppo_folder = '../stable_baselines3/bkp/deeprmsa-ppo-trained/'\n",
    "plotting_average_window = 100\n",
    "\n",
    "# loading heuristics\n",
    "rnd_data = pd.read_csv(heuristic_folder + 'rnd.monitor.csv', skiprows=1)\n",
    "sp_ff_data = pd.read_csv(heuristic_folder + 'sp_ff.monitor.csv', skiprows=1)\n",
    "sap_ff_data = pd.read_csv(heuristic_folder + 'sap_ff.monitor.csv', skiprows=1)\n",
    "llp_ff_data = pd.read_csv(heuristic_folder + 'llp_ff.monitor.csv', skiprows=1)\n",
    "deeprmsa_ppo_trained = pd.read_csv(deeprmsa_ppo_folder + 'training.monitor.csv', skiprows=1)\n",
    "rnd_data.describe()\n"
   ]
  },
  {
   "cell_type": "markdown",
   "metadata": {},
   "source": [
    "## Visualizing live training"
   ]
  },
  {
   "cell_type": "code",
   "execution_count": null,
   "metadata": {},
   "outputs": [],
   "source": [
    "while True:\n",
    "\n",
    "    plotting_average_window = 2500\n",
    "    time.sleep(2)\n",
    "\n",
    "    # load current training output\n",
    "    deeprmsa_ppo_training = pd.read_csv('../stable_baselines3/tmp/deeprmsa-ppo/training.monitor.csv', skiprows=1)\n",
    "\n",
    "    clear_output(wait=True)\n",
    "    fig, (ax1, ax2) = plt.subplots(1, 2)\n",
    "    fig.suptitle('Blocking rate')\n",
    "\n",
    "    # ax1.semilogy(np.convolve(rnd_data['episode_service_blocking_rate'], np.ones(plotting_average_window)/plotting_average_window, mode='valid'), label='Rnd')\n",
    "    # ax1.semilogy(np.convolve(sp_ff_data['episode_service_blocking_rate'], np.ones(plotting_average_window)/plotting_average_window, mode='valid'), label='SP-FF')\n",
    "    ax1.semilogy(np.convolve(sap_ff_data['episode_service_blocking_rate'], np.ones(plotting_average_window)/plotting_average_window, mode='valid'), label='SAP-FF')\n",
    "    ax1.semilogy(np.convolve(llp_ff_data['episode_service_blocking_rate'], np.ones(plotting_average_window)/plotting_average_window, mode='valid'), label='LLP-FF')\n",
    "\n",
    "    deeprmsa_ep_br = np.convolve(deeprmsa_ppo_training['episode_service_blocking_rate'], np.ones(plotting_average_window)/plotting_average_window, mode='valid')\n",
    "    ax1.semilogy(deeprmsa_ep_br, label=\"DeepRMSA\", marker=\"o\", markevery=plotting_average_window)\n",
    "\n",
    "    ax1.set_xlabel('Episode')\n",
    "    ax1.set_ylabel('Episode service blocking rate')\n",
    "    ax1.set_xlim([0, len(deeprmsa_ep_br)])\n",
    "\n",
    "    # ax2.semilogy(np.convolve(rnd_data['episode_bit_rate_blocking_rate'], np.ones(plotting_average_window)/plotting_average_window, mode='valid'), label='Rnd')\n",
    "    # ax2.semilogy(np.convolve(sp_ff_data['episode_bit_rate_blocking_rate'], np.ones(plotting_average_window)/plotting_average_window, mode='valid'), label='SP-FF')\n",
    "    ax2.semilogy(np.convolve(sap_ff_data['episode_bit_rate_blocking_rate'], np.ones(plotting_average_window)/plotting_average_window, mode='valid'), label='SAP-FF')\n",
    "    ax2.semilogy(np.convolve(llp_ff_data['episode_bit_rate_blocking_rate'], np.ones(plotting_average_window)/plotting_average_window, mode='valid'), label='LLP-FF')\n",
    "\n",
    "    deeprmsa_ep_bbr = np.convolve(deeprmsa_ppo_training['episode_bit_rate_blocking_rate'], np.ones(plotting_average_window)/plotting_average_window, mode='valid')\n",
    "    ax2.semilogy(deeprmsa_ep_bbr, label=\"DeepRMSA\", marker=\"o\", markevery=plotting_average_window)\n",
    "\n",
    "    ax2.set_xlabel('Episode')\n",
    "    ax2.set_ylabel('Episode bit rate blocking rate')\n",
    "    ax2.set_xlim([0, len(deeprmsa_ep_bbr)])\n",
    "\n",
    "    plt.legend(loc=1)\n",
    "    plt.tight_layout()\n",
    "    plt.show()\n",
    "    break"
   ]
  },
  {
   "cell_type": "markdown",
   "metadata": {},
   "source": [
    "## Visualizing a trained model"
   ]
  },
  {
   "cell_type": "code",
   "execution_count": null,
   "metadata": {},
   "outputs": [],
   "source": [
    "plotting_average_window = 500\n",
    "\n",
    "fig, (ax1, ax2) = plt.subplots(1, 2)\n",
    "fig.suptitle('Blocking rate')\n",
    "\n",
    "ax1.semilogy(np.convolve(rnd_data['episode_service_blocking_rate'], np.ones(plotting_average_window)/plotting_average_window, mode='valid'), label='Rnd')\n",
    "ax1.semilogy(np.convolve(sp_ff_data['episode_service_blocking_rate'], np.ones(plotting_average_window)/plotting_average_window, mode='valid'), label='SP-FF')\n",
    "ax1.semilogy(np.convolve(sap_ff_data['episode_service_blocking_rate'], np.ones(plotting_average_window)/plotting_average_window, mode='valid'), label='SAP-FF')\n",
    "ax1.semilogy(np.convolve(llp_ff_data['episode_service_blocking_rate'], np.ones(plotting_average_window)/plotting_average_window, mode='valid'), label='LLP-FF')\n",
    "\n",
    "deeprmsa_ep_br = np.convolve(deeprmsa_ppo_trained['episode_service_blocking_rate'], np.ones(plotting_average_window)/plotting_average_window, mode='valid')\n",
    "ax1.semilogy(deeprmsa_ep_br, label='DeepRMSA', marker='o', markevery=plotting_average_window)\n",
    "\n",
    "ax1.set_xlabel('Episode')\n",
    "ax1.set_ylabel('Episode service blocking rate')\n",
    "ax1.set_xlim([0, len(deeprmsa_ep_br)])\n",
    "\n",
    "ax2.semilogy(np.convolve(rnd_data['episode_bit_rate_blocking_rate'], np.ones(plotting_average_window)/plotting_average_window, mode='valid'), label='Rnd')\n",
    "ax2.semilogy(np.convolve(sp_ff_data['episode_bit_rate_blocking_rate'], np.ones(plotting_average_window)/plotting_average_window, mode='valid'), label='SP-FF')\n",
    "ax2.semilogy(np.convolve(sap_ff_data['episode_bit_rate_blocking_rate'], np.ones(plotting_average_window)/plotting_average_window, mode='valid'), label='SAP-FF')\n",
    "ax2.semilogy(np.convolve(llp_ff_data['episode_bit_rate_blocking_rate'], np.ones(plotting_average_window)/plotting_average_window, mode='valid'), label='LLP-FF')\n",
    "\n",
    "deeprmsa_ep_bbr = np.convolve(deeprmsa_ppo_trained['episode_bit_rate_blocking_rate'], np.ones(plotting_average_window)/plotting_average_window, mode='valid')\n",
    "ax2.semilogy(deeprmsa_ep_bbr, label='DeepRMSA', marker='o', markevery=plotting_average_window)\n",
    "\n",
    "ax2.set_xlabel('Episode')\n",
    "ax2.set_ylabel('Episode bit rate blocking rate')\n",
    "ax2.set_xlim([0, len(deeprmsa_ep_bbr)])\n",
    "\n",
    "plt.legend(loc=1)\n",
    "plt.tight_layout()\n",
    "plt.show()"
   ]
  }
 ],
 "metadata": {
  "kernelspec": {
   "display_name": "Python 3.8.10 64-bit",
   "language": "python",
   "name": "python3"
  },
  "language_info": {
   "codemirror_mode": {
    "name": "ipython",
    "version": 3
   },
   "file_extension": ".py",
   "mimetype": "text/x-python",
   "name": "python",
   "nbconvert_exporter": "python",
   "pygments_lexer": "ipython3",
   "version": "3.8.10"
  },
  "orig_nbformat": 4,
  "vscode": {
   "interpreter": {
    "hash": "916dbcbb3f70747c44a77c7bcd40155683ae19c65e1c03b4aa3499c5328201f1"
   }
  }
 },
 "nbformat": 4,
 "nbformat_minor": 2
}
